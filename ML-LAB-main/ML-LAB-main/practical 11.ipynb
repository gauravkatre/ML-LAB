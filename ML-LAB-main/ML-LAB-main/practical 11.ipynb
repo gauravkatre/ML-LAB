{
  "nbformat": 4,
  "nbformat_minor": 0,
  "metadata": {
    "colab": {
      "provenance": []
    },
    "kernelspec": {
      "name": "python3",
      "display_name": "Python 3"
    },
    "language_info": {
      "name": "python"
    }
  },
  "cells": [
    {
      "cell_type": "code",
      "source": [
        "import numpy as np\n",
        "from sklearn.preprocessing import PolynomialFeatures\n",
        "from sklearn.linear_model import LinearRegression\n",
        "from sklearn.metrics import mean_absolute_error, mean_squared_error, r2_score"
      ],
      "metadata": {
        "id": "nKHiQmNNxpL-"
      },
      "execution_count": null,
      "outputs": []
    },
    {
      "cell_type": "code",
      "source": [
        "# Data\n",
        "x = np.array([1, 2, 3, 4, 5]).reshape(-1, 1)\n",
        "y = np.array([20, 40, 50, 65, 80])"
      ],
      "metadata": {
        "id": "-gpFPk05xuJb"
      },
      "execution_count": null,
      "outputs": []
    },
    {
      "cell_type": "code",
      "source": [
        "#Design matrix: [1, x, x^2]\n",
        "X_manual = np.column_stack((np.ones(len(x)), x, x**2))"
      ],
      "metadata": {
        "id": "OOst6FgIyTUH"
      },
      "execution_count": null,
      "outputs": []
    },
    {
      "cell_type": "code",
      "source": [
        "# Normal Equation: (X^T X)^(-1) X^T y\n",
        "beta = np.linalg.inv(X_manual.T @ X_manual) @ (X_manual.T @ y)"
      ],
      "metadata": {
        "id": "Kiu_zexFyYA4"
      },
      "execution_count": null,
      "outputs": []
    },
    {
      "cell_type": "code",
      "source": [
        "print(\"Coefficients (β0, β1, β2):\", beta)"
      ],
      "metadata": {
        "colab": {
          "base_uri": "https://localhost:8080/"
        },
        "id": "vw7w_xu7yTOd",
        "outputId": "e52929db-02d7-45a8-d3ca-7bde240cfc39"
      },
      "execution_count": null,
      "outputs": [
        {
          "output_type": "stream",
          "name": "stdout",
          "text": [
            "Coefficients (β0, β1, β2): [ 5.         16.64285714 -0.35714286]\n"
          ]
        }
      ]
    },
    {
      "cell_type": "code",
      "source": [
        "#Predictions\n",
        "y_pred_manual = X_manual @ beta"
      ],
      "metadata": {
        "id": "Q6ACLQC3yce_"
      },
      "execution_count": null,
      "outputs": []
    },
    {
      "cell_type": "code",
      "source": [
        "# Metrics\n",
        "mae = mean_absolute_error(y, y_pred_manual)\n",
        "mae"
      ],
      "metadata": {
        "colab": {
          "base_uri": "https://localhost:8080/"
        },
        "id": "tjp_UD_1x4Oe",
        "outputId": "8b3f6543-4acb-40de-b018-5378a81b42f3"
      },
      "execution_count": null,
      "outputs": [
        {
          "output_type": "execute_result",
          "data": {
            "text/plain": [
              "1.5428571428571765"
            ]
          },
          "metadata": {},
          "execution_count": 28
        }
      ]
    },
    {
      "cell_type": "code",
      "source": [
        "mse = mean_squared_error(y, y_pred_manual)\n",
        "mse"
      ],
      "metadata": {
        "colab": {
          "base_uri": "https://localhost:8080/"
        },
        "id": "9nvYakYkyNhY",
        "outputId": "593dadde-b89f-4290-9481-1052c3e007ba"
      },
      "execution_count": null,
      "outputs": [
        {
          "output_type": "execute_result",
          "data": {
            "text/plain": [
              "3.142857142857151"
            ]
          },
          "metadata": {},
          "execution_count": 29
        }
      ]
    },
    {
      "cell_type": "code",
      "source": [
        "rmse= np.sqrt(mse)\n",
        "rmse"
      ],
      "metadata": {
        "colab": {
          "base_uri": "https://localhost:8080/"
        },
        "id": "IA07KDpZym2v",
        "outputId": "980523fe-03c4-4655-8664-025ae3870d37"
      },
      "execution_count": null,
      "outputs": [
        {
          "output_type": "execute_result",
          "data": {
            "text/plain": [
              "np.float64(1.772810520855839)"
            ]
          },
          "metadata": {},
          "execution_count": 30
        }
      ]
    },
    {
      "cell_type": "code",
      "source": [
        "r2= r2_score (y, y_pred_manual)\n",
        "r2"
      ],
      "metadata": {
        "colab": {
          "base_uri": "https://localhost:8080/"
        },
        "id": "60WXGySMyoEz",
        "outputId": "ce0e4e80-c1f6-4928-fe92-ee0a784ec58e"
      },
      "execution_count": null,
      "outputs": [
        {
          "output_type": "execute_result",
          "data": {
            "text/plain": [
              "0.9925876010781671"
            ]
          },
          "metadata": {},
          "execution_count": 31
        }
      ]
    }
  ]
}