{
  "nbformat": 4,
  "nbformat_minor": 0,
  "metadata": {
    "colab": {
      "provenance": []
    },
    "kernelspec": {
      "name": "python3",
      "display_name": "Python 3"
    },
    "language_info": {
      "name": "python"
    }
  },
  "cells": [
    {
      "cell_type": "code",
      "execution_count": null,
      "metadata": {
        "id": "_BSvMez4yJUJ"
      },
      "outputs": [],
      "source": [
        "import numpy as np\n",
        "import pandas as pd\n",
        "import seaborn as sns\n",
        "import matplotlib.pyplot as plt\n"
      ]
    },
    {
      "cell_type": "code",
      "source": [
        "df = [100,120,130,150,180,200,220,250]\n"
      ],
      "metadata": {
        "id": "8CrxCgVTyri7"
      },
      "execution_count": null,
      "outputs": []
    },
    {
      "cell_type": "code",
      "source": [
        "df = pd.Series(df)\n",
        "q1=df.quantile(0.25)\n",
        "q3=df.quantile(0.75)\n",
        "IQR=q3-q1"
      ],
      "metadata": {
        "id": "8V424XUYy-5C"
      },
      "execution_count": null,
      "outputs": []
    },
    {
      "cell_type": "code",
      "source": [
        "lower_bound = q1 - 1.5 * IQR\n",
        "upper_bound = q3 + 1.5 * IQR\n",
        "outlier = df[(df < lower_bound) | (df > upper_bound)]"
      ],
      "metadata": {
        "id": "SzVWc-vYzXAC"
      },
      "execution_count": null,
      "outputs": []
    },
    {
      "cell_type": "code",
      "source": [
        "print(IQR)\n",
        "print(lower_bound)\n",
        "print(upper_bound)\n",
        "print(outlier)"
      ],
      "metadata": {
        "colab": {
          "base_uri": "https://localhost:8080/"
        },
        "id": "Sf3XltOuz_hZ",
        "outputId": "25e33237-4315-436a-eabe-b36e169191cb"
      },
      "execution_count": null,
      "outputs": [
        {
          "output_type": "stream",
          "name": "stdout",
          "text": [
            "77.5\n",
            "11.25\n",
            "321.25\n",
            "Series([], dtype: int64)\n"
          ]
        }
      ]
    },
    {
      "cell_type": "code",
      "source": [
        "plt.figure(figsize=(8, 6))\n",
        "sns.boxplot(x=df)\n",
        "plt.title('Box Plot of Data')\n",
        "plt.show()"
      ],
      "metadata": {
        "colab": {
          "base_uri": "https://localhost:8080/",
          "height": 564
        },
        "id": "7AJwhGTO0DaD",
        "outputId": "1d7b72bf-f5f1-4431-e0ad-876ff14b29ad"
      },
      "execution_count": null,
      "outputs": [
        {
          "output_type": "display_data",
          "data": {
            "text/plain": [
              "<Figure size 800x600 with 1 Axes>"
            ],
            "image/png": "[encoded data removed]"
          },
          "metadata": {}
        }
      ]
    },
    {
      "cell_type": "code",
      "source": [
        "df = [0,100,120,130,150,180,200,220,250,400]"
      ],
      "metadata": {
        "id": "0c09p3US0yax"
      },
      "execution_count": null,
      "outputs": []
    },
    {
      "cell_type": "code",
      "source": [
        "df = pd.Series(df)\n",
        "q1=df.quantile(0.25)\n",
        "q3=df.quantile(0.75)\n",
        "IQR=q3-q1"
      ],
      "metadata": {
        "id": "-QhlGX4p05li"
      },
      "execution_count": null,
      "outputs": []
    },
    {
      "cell_type": "code",
      "source": [
        "lower_bound = q1 - 1.5 * IQR\n",
        "upper_bound = q3 + 1.5 * IQR\n",
        "outlier = df[(df < lower_bound) | (df > upper_bound)]"
      ],
      "metadata": {
        "id": "xnt4oGo706fi"
      },
      "execution_count": null,
      "outputs": []
    },
    {
      "cell_type": "code",
      "source": [
        "print(IQR)\n",
        "print(lower_bound)\n",
        "print(upper_bound)\n",
        "print(outlier)"
      ],
      "metadata": {
        "colab": {
          "base_uri": "https://localhost:8080/"
        },
        "id": "4cb40QFf1A1q",
        "outputId": "d1782127-fffb-4cbe-bfc2-407f7d78ab01"
      },
      "execution_count": null,
      "outputs": [
        {
          "output_type": "stream",
          "name": "stdout",
          "text": [
            "92.5\n",
            "-16.25\n",
            "353.75\n",
            "9    400\n",
            "dtype: int64\n"
          ]
        }
      ]
    }
  ]
}