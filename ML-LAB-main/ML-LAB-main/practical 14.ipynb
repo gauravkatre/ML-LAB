{
 "cells": [
  {
   "cell_type": "code",
   "execution_count": 5,
   "id": "9355ee22-20ff-4cb8-bf81-7fa78fb038e5",
   "metadata": {},
   "outputs": [],
   "source": [
    "import pandas as pd\n",
    "from mlxtend.frequent_patterns import apriori, association_rules\n"
   ]
  },
  {
   "cell_type": "code",
   "execution_count": 7,
   "id": "bb8f1724-157b-48aa-9fb9-045a33e79912",
   "metadata": {},
   "outputs": [],
   "source": [
    "dataset = [\n",
    "    ['milk', 'bread','nuts', 'apple'],\n",
    "    ['milk', 'bread','nuts'],\n",
    "    ['milk', 'bread'],\n",
    "    ['milk', 'apple'],\n",
    "    ['bread', 'apple'],\n",
    "    ['milk', 'bread','apple'],\n",
    "    ['milk', 'bread','apple'],\n",
    "    ['bread','nuts']\n",
    "]"
   ]
  },
  {
   "cell_type": "code",
   "execution_count": 15,
   "id": "dcba853b-9b35-4342-a11e-15e044995d64",
   "metadata": {},
   "outputs": [],
   "source": [
    "from mlxtend.preprocessing import TransactionEncoder\n",
    "te = TransactionEncoder()\n",
    "te_array =te.fit(dataset).transform(dataset)\n",
    "df = pd.DataFrame(te_array, columns=te.columns_)"
   ]
  },
  {
   "cell_type": "code",
   "execution_count": 17,
   "id": "7dc2c0cb-687c-4717-99c1-d96243934948",
   "metadata": {},
   "outputs": [
    {
     "name": "stdout",
     "output_type": "stream",
     "text": [
      "One-Hot Encoded Transaction Data:\n",
      "   apple  bread   milk   nuts\n",
      "0   True   True   True   True\n",
      "1  False   True   True   True\n",
      "2  False   True   True  False\n",
      "3   True  False   True  False\n",
      "4   True   True  False  False\n",
      "5   True   True   True  False\n",
      "6   True   True   True  False\n",
      "7  False   True  False   True\n"
     ]
    }
   ],
   "source": [
    "print(\"One-Hot Encoded Transaction Data:\")\n",
    "print(df)"
   ]
  },
  {
   "cell_type": "code",
   "execution_count": 19,
   "id": "3efc7623-6d82-4430-baa9-c3ef00fbc8b1",
   "metadata": {},
   "outputs": [
    {
     "name": "stdout",
     "output_type": "stream",
     "text": [
      "\n",
      " Frequent Itemsets:\n",
      "   support              itemsets\n",
      "0    0.625               (apple)\n",
      "1    0.875               (bread)\n",
      "2    0.750                (milk)\n",
      "3    0.375                (nuts)\n",
      "4    0.500        (bread, apple)\n",
      "5    0.500         (milk, apple)\n",
      "6    0.625         (bread, milk)\n",
      "7    0.375         (bread, nuts)\n",
      "8    0.375  (bread, milk, apple)\n"
     ]
    }
   ],
   "source": [
    "frequent_itemsets = apriori(df, min_support=0.3, use_colnames=True)\n",
    "print(\"\\n Frequent Itemsets:\")\n",
    "print(frequent_itemsets)"
   ]
  },
  {
   "cell_type": "code",
   "execution_count": 23,
   "id": "07b9483f-0d2c-4f71-a34e-4bf423c967c6",
   "metadata": {},
   "outputs": [
    {
     "name": "stdout",
     "output_type": "stream",
     "text": [
      "\n",
      " Association Rules:\n",
      "      antecedents     consequents  support  confidence      lift\n",
      "0          (milk)         (apple)    0.500    0.666667  1.066667\n",
      "1         (apple)          (milk)    0.500    0.800000  1.066667\n",
      "2         (bread)          (nuts)    0.375    0.428571  1.142857\n",
      "3          (nuts)         (bread)    0.375    1.000000  1.142857\n",
      "4  (bread, apple)          (milk)    0.375    0.750000  1.000000\n",
      "5          (milk)  (bread, apple)    0.375    0.500000  1.000000\n"
     ]
    }
   ],
   "source": [
    "rules = association_rules(frequent_itemsets, metric=\"lift\", min_threshold=1.0)\n",
    "print(\"\\n Association Rules:\")\n",
    "print(rules[['antecedents', 'consequents', 'support', 'confidence', 'lift']])"
   ]
  },
  {
   "cell_type": "code",
   "execution_count": 25,
   "id": "a1995a12-65d8-475e-95d6-82f2847b57b3",
   "metadata": {},
   "outputs": [
    {
     "name": "stdout",
     "output_type": "stream",
     "text": [
      "\n",
      " Top Rules by Lift:\n",
      "      antecedents     consequents  support  confidence      lift\n",
      "2         (bread)          (nuts)    0.375    0.428571  1.142857\n",
      "3          (nuts)         (bread)    0.375    1.000000  1.142857\n",
      "0          (milk)         (apple)    0.500    0.666667  1.066667\n",
      "1         (apple)          (milk)    0.500    0.800000  1.066667\n",
      "4  (bread, apple)          (milk)    0.375    0.750000  1.000000\n",
      "5          (milk)  (bread, apple)    0.375    0.500000  1.000000\n"
     ]
    }
   ],
   "source": [
    "rules = rules.sort_values(by=\"lift\", ascending=False)\n",
    "print(\"\\n Top Rules by Lift:\")\n",
    "print(rules[['antecedents', 'consequents', 'support', 'confidence', 'lift']])"
   ]
  },
  {
   "cell_type": "code",
   "execution_count": null,
   "id": "06b077fc-0c77-4035-97b3-6381e2cb72fc",
   "metadata": {},
   "outputs": [],
   "source": []
  }
 ],
 "metadata": {
  "kernelspec": {
   "display_name": "Python [conda env:base] *",
   "language": "python",
   "name": "conda-base-py"
  },
  "language_info": {
   "codemirror_mode": {
    "name": "ipython",
    "version": 3
   },
   "file_extension": ".py",
   "mimetype": "text/x-python",
   "name": "python",
   "nbconvert_exporter": "python",
   "pygments_lexer": "ipython3",
   "version": "3.12.7"
  }
 },
 "nbformat": 4,
 "nbformat_minor": 5
}
